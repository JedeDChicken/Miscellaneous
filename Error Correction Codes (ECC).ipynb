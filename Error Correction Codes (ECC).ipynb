{
 "cells": [
  {
   "attachments": {},
   "cell_type": "markdown",
   "metadata": {
    "id": "URv2mlIjRS_1"
   },
   "source": [
    "**Name**: \n",
    "\n",
    "**SN**: \n",
    "\n",
    "**Class**: WFQ or WFR\n",
    "\n",
    "**Task**: Noise simulator with repetition codes\n",
    "\n",
    "Have fun doing this exercise! 💓"
   ]
  },
  {
   "attachments": {},
   "cell_type": "markdown",
   "metadata": {
    "id": "d9RruSDXRjF9"
   },
   "source": [
    "---\n",
    "\n",
    "# Repetition Codes\n",
    "\n",
    "Last module 3, we worked on noisy images. This time, we'll try to reduce the noise in our images by using repetition codes. You'll only need to create two functions:\n",
    "\n",
    "* Create a `apply_repetition(orig_img,N)`\n",
    "* Create a `decode_image(noisy_img,N)`\n",
    "* Answer the questions at the end of this exercise.\n",
    "\n",
    "The add noise function will be provided to you. We'll only use a single image."
   ]
  },
  {
   "attachments": {},
   "cell_type": "markdown",
   "metadata": {
    "id": "Dj2jPaWrGESn"
   },
   "source": [
    "# RUN ME BUT DON'T CHANGE ANYTHING\n",
    "\n",
    "You are allowed to study any of the provided functions. You're not allowed to add more than the given imported packages."
   ]
  },
  {
   "cell_type": "code",
   "execution_count": null,
   "metadata": {
    "id": "p0ieZcEOlLKw"
   },
   "outputs": [],
   "source": [
    "###############################################\n",
    "# PLEASE DO NOT CHANGE ANYTHING IN THIS CODE BLOCK!\n",
    "###############################################\n",
    "\n",
    "###############################################\n",
    "# Import useful packages for convenience\n",
    "###############################################\n",
    "from matplotlib import image\n",
    "import math                       # For useful math functions like log of 2\n",
    "import matplotlib.pyplot as plt   # For plotting later\n",
    "import requests                   # For extracting data saved on git\n",
    "import random                     # Might be useful for randomization\n",
    "from collections import Counter\n",
    "\n",
    "###############################################\n",
    "# We made these for you! Use it wisely :)\n",
    "###############################################\n",
    "\n",
    "###############################################\n",
    "# Such an inefficient way of converting binary text\n",
    "# into a list. Sorry this is just us being lazy. But you\n",
    "# get the idea :P\n",
    "###############################################\n",
    "def convert_to_list(raw_img):\n",
    "  converted_list = []\n",
    "  temp_row = []\n",
    "  for i in raw_img:\n",
    "    if(i != '\\n'):\n",
    "      if(i == '0'):\n",
    "        temp_row.append(0)\n",
    "      else:\n",
    "        temp_row.append(1)\n",
    "    else:\n",
    "      converted_list.append(temp_row)\n",
    "      temp_row = []\n",
    "\n",
    "  return converted_list\n",
    "\n",
    "###############################################\n",
    "# Displaying listed data as images\n",
    "###############################################\n",
    "def display_img(img_data):\n",
    "  plt.imshow(img_data, cmap='Greys',  interpolation='nearest')\n",
    "  plt.axis('off')\n",
    "  return\n",
    "\n",
    "\n",
    "###############################################\n",
    "# Adding noise to the system\n",
    "###############################################\n",
    "def add_noise(data,noise_prob):\n",
    "\n",
    "  # Initialize noisy data\n",
    "  noisy_data = []\n",
    "\n",
    "  # Sanity checker\n",
    "  if(noise_prob < 0 or noise_prob > 1):\n",
    "    print(\"Error! Noise probability isn't correct\")\n",
    "    return\n",
    "\n",
    "  # Get total length per row\n",
    "  col_length = len(data[0])\n",
    "\n",
    "  # Generate fixed length\n",
    "  shuffle_list = [x for x in range(col_length)]\n",
    "  cutoff_idx = round(col_length * noise_prob)\n",
    "\n",
    "  # Iterate per row\n",
    "  for row in data:\n",
    "\n",
    "    # Do random indexing\n",
    "    random.shuffle(shuffle_list)\n",
    "    temp_row = []\n",
    "\n",
    "    # Start flipping bits\n",
    "    for i in range(col_length):\n",
    "      if(shuffle_list[i] < cutoff_idx):\n",
    "        if(row[i] == 0):\n",
    "          temp_row.append(1)\n",
    "        else:\n",
    "          temp_row.append(0)\n",
    "      else:\n",
    "        temp_row.append(row[i])\n",
    "\n",
    "    noisy_data.append(temp_row)\n",
    "\n",
    "  return noisy_data\n",
    "\n",
    "###############################################\n",
    "# Importing data\n",
    "###############################################\n",
    "asli_painted_img = convert_to_list(list(requests.get('https://raw.githubusercontent.com/rgantonio/CoE161---FileDump/main/aslipainted.txt'    ).text))\n",
    "\n",
    "# Asli painted is an anagram of the kind person who gave me this picture. Thanks  Asli!! Also thanks for helping out in proof reading my modules :D"
   ]
  },
  {
   "attachments": {},
   "cell_type": "markdown",
   "metadata": {
    "id": "YfX4lmR1pO7H"
   },
   "source": [
    "Let's display Asli painted for now."
   ]
  },
  {
   "cell_type": "code",
   "execution_count": null,
   "metadata": {
    "colab": {
     "base_uri": "https://localhost:8080/",
     "height": 406
    },
    "id": "F37L5fZMo17W",
    "outputId": "466da31d-7b91-44a0-b59c-add5fd8e680e"
   },
   "outputs": [],
   "source": [
    "###############################################\n",
    "# Displaying Asli painted\n",
    "###############################################\n",
    "display_img(asli_painted_img)"
   ]
  },
  {
   "attachments": {},
   "cell_type": "markdown",
   "metadata": {
    "id": "4I2P7GvwVreC"
   },
   "source": [
    "Let's create the original noisy image but let's begin with $\\epsilon = 0.15$ first. You can play around with these later on."
   ]
  },
  {
   "cell_type": "code",
   "execution_count": null,
   "metadata": {
    "colab": {
     "base_uri": "https://localhost:8080/",
     "height": 406
    },
    "id": "ZHxVjQRcV9EQ",
    "outputId": "fff92636-bebf-4636-9255-9018360e12e2"
   },
   "outputs": [],
   "source": [
    "###############################################\n",
    "# Apply noise to original image just for visualization purposes\n",
    "###############################################\n",
    "epsilon = 0.3\n",
    "noisy_asli = add_noise(asli_painted_img,epsilon)\n",
    "display_img(noisy_asli)"
   ]
  },
  {
   "attachments": {},
   "cell_type": "markdown",
   "metadata": {
    "id": "jLJ6wvN1WdgD"
   },
   "source": [
    "Remember, because noise is introduced to our system, it's desirable to add redundancy in our system so that the noise will be taken out."
   ]
  },
  {
   "attachments": {},
   "cell_type": "markdown",
   "metadata": {
    "id": "-QHm4DdjqvV6"
   },
   "source": [
    "# Task 1 - Encode Image with Repetition Codes\n",
    "\n",
    "Create a function `apply_repetition(orig_img,N)`. The `orig_img` is the original input image. `N` is the number of repetitions. The function should return an arrayed list of the encoded image. Simple right?\n",
    "\n"
   ]
  },
  {
   "cell_type": "code",
   "execution_count": null,
   "metadata": {
    "id": "9_6uJKNTucFF"
   },
   "outputs": [],
   "source": [
    "###############################################\n",
    "# SANDBOX for your testing\n",
    "###############################################\n",
    "\n",
    "\n",
    "\n",
    "\n",
    "\n",
    "\n",
    "\n",
    "\n",
    "\n",
    "\n",
    "\n",
    "\n",
    "\n",
    "\n",
    "\n",
    "\n",
    "\n",
    "\n",
    "###############################################"
   ]
  },
  {
   "cell_type": "code",
   "execution_count": null,
   "metadata": {
    "id": "YJcaP9yFqjBG"
   },
   "outputs": [],
   "source": [
    "###############################################\n",
    "# Make repetition codes\n",
    "###############################################\n",
    "def apply_repetition(orig_img,N):\n",
    "  # Place nice code in here\n",
    "  \n",
    "  orig_img1 = []\n",
    "  \n",
    "  for i in orig_img:    #Traverse by row\n",
    "    list_row = []\n",
    "    \n",
    "    for j in i:         #Traverse the rows\n",
    "      list_row.extend(N * [j])\n",
    "    \n",
    "    orig_img1.append(list_row)\n",
    "  \n",
    "  return orig_img1"
   ]
  },
  {
   "attachments": {},
   "cell_type": "markdown",
   "metadata": {
    "id": "BhspMqOvX8rT"
   },
   "source": [
    "# CHECKPOINT (2.5 PTS.)\n",
    "\n",
    "Let's display your work for $N=3,5,7,9,11$. If done correctly, you should see the images stretched out horizontally."
   ]
  },
  {
   "cell_type": "code",
   "execution_count": null,
   "metadata": {
    "id": "U0BpgnXCYCta"
   },
   "outputs": [],
   "source": [
    "###############################################\n",
    "# Displaying for sanity checking\n",
    "###############################################\n",
    "rep_img3 = apply_repetition(asli_painted_img,3)\n",
    "display_img(rep_img3)"
   ]
  },
  {
   "cell_type": "code",
   "execution_count": null,
   "metadata": {
    "id": "tCM53fR2YbFy"
   },
   "outputs": [],
   "source": [
    "###############################################\n",
    "# Displaying for sanity checking\n",
    "###############################################\n",
    "rep_img5 = apply_repetition(asli_painted_img,5)\n",
    "display_img(rep_img5)"
   ]
  },
  {
   "cell_type": "code",
   "execution_count": null,
   "metadata": {
    "id": "9YPwr5CRYbJ0"
   },
   "outputs": [],
   "source": [
    "###############################################\n",
    "# Displaying for sanity checking\n",
    "###############################################\n",
    "rep_img7 = apply_repetition(asli_painted_img,7)\n",
    "display_img(rep_img7)"
   ]
  },
  {
   "cell_type": "code",
   "execution_count": null,
   "metadata": {
    "id": "wmC7IAzqhpZd"
   },
   "outputs": [],
   "source": [
    "###############################################\n",
    "# Displaying for sanity checking\n",
    "###############################################\n",
    "rep_img9 = apply_repetition(asli_painted_img,9)\n",
    "display_img(rep_img9)"
   ]
  },
  {
   "cell_type": "code",
   "execution_count": null,
   "metadata": {
    "id": "FOs1IbNmhpyk"
   },
   "outputs": [],
   "source": [
    "###############################################\n",
    "# Displaying for sanity checking\n",
    "###############################################\n",
    "rep_img11 = apply_repetition(asli_painted_img,11)\n",
    "display_img(rep_img11)"
   ]
  },
  {
   "attachments": {},
   "cell_type": "markdown",
   "metadata": {
    "id": "oDWNZNq5ykEp"
   },
   "source": [
    "Of course, we need to send the encoded message over some BSC. Let's apply the `add_noise` function to each encoded data."
   ]
  },
  {
   "cell_type": "code",
   "execution_count": null,
   "metadata": {
    "id": "pEkdTxDCMHUh"
   },
   "outputs": [],
   "source": [
    "###############################################\n",
    "# Adding noise\n",
    "# Note, you can change epsilon from the original variable way above\n",
    "###############################################\n",
    "\n",
    "noisy_rep_img3 = add_noise(rep_img3,epsilon)\n",
    "noisy_rep_img5 = add_noise(rep_img5,epsilon)\n",
    "noisy_rep_img7 = add_noise(rep_img7,epsilon)\n",
    "noisy_rep_img9 = add_noise(rep_img9,epsilon)\n",
    "noisy_rep_img11 = add_noise(rep_img11,epsilon)\n"
   ]
  },
  {
   "attachments": {},
   "cell_type": "markdown",
   "metadata": {
    "id": "VU6oCkLubM-F"
   },
   "source": [
    "Let's also display how the noise distorts our encoded images."
   ]
  },
  {
   "cell_type": "code",
   "execution_count": null,
   "metadata": {
    "id": "EcI8IFE5bSYa"
   },
   "outputs": [],
   "source": [
    "###############################################\n",
    "# Displaying for sanity checking\n",
    "###############################################\n",
    "display_img(noisy_rep_img3)"
   ]
  },
  {
   "cell_type": "code",
   "execution_count": null,
   "metadata": {
    "id": "LsZxQjmZbWeK"
   },
   "outputs": [],
   "source": [
    "###############################################\n",
    "# Displaying for sanity checking\n",
    "###############################################\n",
    "display_img(noisy_rep_img5)"
   ]
  },
  {
   "cell_type": "code",
   "execution_count": null,
   "metadata": {
    "id": "i92QCvM6bWmC"
   },
   "outputs": [],
   "source": [
    "###############################################\n",
    "# Displaying for sanity checking\n",
    "###############################################\n",
    "display_img(noisy_rep_img7)"
   ]
  },
  {
   "cell_type": "code",
   "execution_count": null,
   "metadata": {
    "id": "RXHJWMpVh0jd"
   },
   "outputs": [],
   "source": [
    "###############################################\n",
    "# Displaying for sanity checking\n",
    "###############################################\n",
    "display_img(noisy_rep_img9)"
   ]
  },
  {
   "cell_type": "code",
   "execution_count": null,
   "metadata": {
    "id": "KN3dRF7yh0yG"
   },
   "outputs": [],
   "source": [
    "###############################################\n",
    "# Displaying for sanity checking\n",
    "###############################################\n",
    "display_img(noisy_rep_img11)"
   ]
  },
  {
   "attachments": {},
   "cell_type": "markdown",
   "metadata": {
    "id": "vP49jCsMCo2b"
   },
   "source": [
    "# Task 2 - Decode Noisy Images with Repetition Codes\n",
    "\n",
    "Create a function `decode_image(noisy_img,N)`. The `noisy_img` is the noisy encoded message. `N` is the number of repetitions. The function should return an arrayed list of the encoded image. Note, the dimensions will be the same as the original image.\n",
    "\n"
   ]
  },
  {
   "cell_type": "code",
   "execution_count": null,
   "metadata": {
    "id": "_g-FpI1G6V2A"
   },
   "outputs": [],
   "source": [
    "###############################################\n",
    "# Decoding repetition codes\n",
    "###############################################\n",
    "def decode_image(noisy_img,N):\n",
    "  # Insert nice code here\n",
    "  decoded_img = []\n",
    "  \n",
    "  for row in noisy_img:\n",
    "    decoded_row = []\n",
    "    \n",
    "    for px in range(0, len(row), N):\n",
    "      current = row[px : px+N]\n",
    "      winner = max(k for k,v in Counter(current).items() if v>1)\n",
    "      decoded_row.append(winner)\n",
    "  \n",
    "    decoded_img.append(decoded_row)\n",
    "  \n",
    "  return decoded_img"
   ]
  },
  {
   "attachments": {},
   "cell_type": "markdown",
   "metadata": {
    "id": "_4eIIWffdN9D"
   },
   "source": [
    "# CHECKPOINT (2.5 pts.)\n",
    "\n",
    "Let's display the decoded images!"
   ]
  },
  {
   "cell_type": "code",
   "execution_count": null,
   "metadata": {
    "id": "DomqRTLkEDH1"
   },
   "outputs": [],
   "source": [
    "###############################################\n",
    "# Let's decode the images first\n",
    "###############################################\n",
    "decoded_rep_img3 = decode_image(noisy_rep_img3,   3)\n",
    "decoded_rep_img5 = decode_image(noisy_rep_img5,   5)\n",
    "decoded_rep_img7 = decode_image(noisy_rep_img7,   7)\n",
    "decoded_rep_img9 = decode_image(noisy_rep_img9,   9)\n",
    "decoded_rep_img11 = decode_image(noisy_rep_img11,11)"
   ]
  },
  {
   "cell_type": "code",
   "execution_count": null,
   "metadata": {
    "id": "zWhhEJxhEJ97"
   },
   "outputs": [],
   "source": [
    "###############################################\n",
    "# Displaying for sanity checking\n",
    "###############################################\n",
    "display_img(decoded_rep_img3)"
   ]
  },
  {
   "cell_type": "code",
   "execution_count": null,
   "metadata": {
    "id": "uhB5Tmz2g5KD"
   },
   "outputs": [],
   "source": [
    "###############################################\n",
    "# Displaying for sanity checking\n",
    "###############################################\n",
    "display_img(decoded_rep_img5)"
   ]
  },
  {
   "cell_type": "code",
   "execution_count": null,
   "metadata": {
    "id": "o0jWfF6Mg5mi"
   },
   "outputs": [],
   "source": [
    "###############################################\n",
    "# Displaying for sanity checking\n",
    "###############################################\n",
    "display_img(decoded_rep_img7)"
   ]
  },
  {
   "cell_type": "code",
   "execution_count": null,
   "metadata": {
    "id": "cwibCEIEh-yk"
   },
   "outputs": [],
   "source": [
    "###############################################\n",
    "# Displaying for sanity checking\n",
    "###############################################\n",
    "display_img(decoded_rep_img9)"
   ]
  },
  {
   "cell_type": "code",
   "execution_count": null,
   "metadata": {
    "id": "o0w-R5kIh_Fe"
   },
   "outputs": [],
   "source": [
    "###############################################\n",
    "# Displaying for sanity checking\n",
    "###############################################\n",
    "display_img(decoded_rep_img11)"
   ]
  },
  {
   "attachments": {},
   "cell_type": "markdown",
   "metadata": {
    "id": "znDd9_1gIb2d"
   },
   "source": [
    "Let's re-display the original noisy image without repetition codes"
   ]
  },
  {
   "cell_type": "code",
   "execution_count": null,
   "metadata": {
    "id": "k9jYtDJZhKcz"
   },
   "outputs": [],
   "source": [
    "###############################################\n",
    "# Displaying for sanity checking\n",
    "###############################################\n",
    "display_img(noisy_asli)"
   ]
  },
  {
   "attachments": {},
   "cell_type": "markdown",
   "metadata": {
    "id": "Yi58q24XRE5K"
   },
   "source": [
    "# Task 4 - Answer the Following (5 pts.)\n",
    "\n",
    "1. With $\\epsilon = 0.15$ what can you observe with the data?\n",
    "\n",
    "Noise is introduced as epsilon is increased to 0.15. The original pixel values (0 or 1) have more probability of being flipped.\n",
    "\n",
    "2. With $\\epsilon = 0.3$ what can you observe with the data?\n",
    "\n",
    "As epsilon is further increased, more pixel values are flipped. As epsilon approaches 0.5, the image becomes a random black and white picture and becomes unrecognizable.\n",
    "\n",
    "3. With $\\epsilon = 0.9$ what can you observe with the data?\n",
    "\n",
    "As epsilon is set to 0.9 (exceeds 0.5), the pixel color reversed.\n",
    "\n",
    "4. What's the advantage of using repetition codes?\n",
    "\n",
    "Using repetition codes adds error-correction by retransmitting the same message N times to increase chance of correct data acquisition.\n",
    "\n",
    "5. What's the benefit for using repetition codes over block codes and Hamming codes despite having to drastically increase the bit-lengths per symbol?\n",
    "\n",
    "Block codes require fixed-sized data blocks and adds redundant bits, and Hamming codes just provide single and double bit error detection via parity bits. Over them is repetition codes that is simple and is very effective in error detection. It is also flexible as N can be adjusted as well as the implementation."
   ]
  }
 ],
 "metadata": {
  "colab": {
   "provenance": []
  },
  "kernelspec": {
   "display_name": "Python 3",
   "name": "python3"
  },
  "language_info": {
   "codemirror_mode": {
    "name": "ipython",
    "version": 3
   },
   "file_extension": ".py",
   "mimetype": "text/x-python",
   "name": "python",
   "nbconvert_exporter": "python",
   "pygments_lexer": "ipython3",
   "version": "3.11.1"
  }
 },
 "nbformat": 4,
 "nbformat_minor": 0
}
