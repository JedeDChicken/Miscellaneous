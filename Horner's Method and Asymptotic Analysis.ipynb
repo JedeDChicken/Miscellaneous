{
  "nbformat": 4,
  "nbformat_minor": 0,
  "metadata": {
    "colab": {
      "provenance": []
    },
    "kernelspec": {
      "name": "python3",
      "display_name": "Python 3"
    },
    "language_info": {
      "name": "python"
    }
  },
  "cells": [
    {
      "cell_type": "markdown",
      "source": [
        "#Software Exercise 1\n",
        "\n",
        "Instructions:\n",
        "1. Sign the Honor Pledge.\n",
        "2. In addition to your own notes and books, online resources can also be used but you have to provide reference(s)."
      ],
      "metadata": {
        "id": "wTSpYTKfCx93"
      }
    },
    {
      "cell_type": "markdown",
      "source": [
        "##Honor Pledge\n",
        "\n",
        "I pledge on my honor that I have not given or received any unauthorized assistance on this exam/assignment.\n",
        "\n",
        "Enter your name/Date: John Danielle T Castor / March 14, 2023\n",
        "\n",
        "\n",
        "---\n"
      ],
      "metadata": {
        "id": "kCSDb0T0JfJb"
      }
    },
    {
      "cell_type": "markdown",
      "source": [
        "1. Order the following functions by asymptotic growth rate: [10 points]\n",
        "\n",
        "* $4n \\log n + 2n$\n",
        "* $2^{10}$ \n",
        "* $2^{\\log n}$ \n",
        "* $3n + 100 \\log n$ \n",
        "* $4n$ \n",
        "* $2^n$ \n",
        "* $n^2 + 10n$\n",
        "* $n^3$\n",
        "* $n \\log n$"
      ],
      "metadata": {
        "id": "fU05S-fjbbNc"
      }
    },
    {
      "cell_type": "markdown",
      "source": [
        "###*Answer*:\n",
        "\n",
        "*   From best to worst complexity:\n",
        "\n",
        "\n",
        "*   $2^{10}$\n",
        "*   $2^{\\log n}$\n",
        "*   $3n + 100 \\log n$\n",
        "*   $4n$\n",
        "*   $n \\log n$\n",
        "*   $4n \\log n + 2n$\n",
        "*   $n^2 + 10n$\n",
        "*   $n^3$\n",
        "*   $2^n$"
      ],
      "metadata": {
        "id": "XCFRLy8KboRX"
      }
    },
    {
      "cell_type": "markdown",
      "source": [
        "2. Communication security is extremely important in computer networks, and one way many network protocols achieve security is to encrypt messages. Typical cryptographic schemes for the secure transmission of mes- sages over such networks are based on the fact that no efficient algorithms are known for factoring large integers. Hence, if we can represent a secret message by a large prime number p, we can transmit, over the network, the number $r = p · q$, where $q > p$ is another large prime number that acts as the encryption key. An eavesdropper who obtains the transmitted number $r$ on the network would have to factor $r$ in order to figure out the secret message $p$.\n",
        "\n",
        "Using factoring to figure out a message is very difficult without knowing the encryption key $q$. To understand why, consider the following naive factoring algorithm:\n",
        "\n",
        "```\n",
        "for p in range(2,r):\n",
        "  if r % p == 0: # if p divides r\n",
        "    return 'The secret message is p!'\n",
        "\n",
        "```\n",
        "(a) Suppose that the eavesdropper uses the above algorithm and has a computer that can carry out in 1 microsecond (1 millionth of a sec- ond) a division between two integers of up to 100 bits each. Give an estimate of the time that it will take in the worst case to decipher the secret message p if the transmitted message r has 100 bits. [15 points]\n"
      ],
      "metadata": {
        "id": "rm6P5ObegEjM"
      }
    },
    {
      "cell_type": "markdown",
      "source": [
        "###Answer:\n",
        "\n",
        "*   $(2^{100}-1) * (1us) = ~1.267651 * 10^{24} s$"
      ],
      "metadata": {
        "id": "cSFtmjcyNu40"
      }
    },
    {
      "cell_type": "markdown",
      "source": [
        "(b) What is the worst-case time complexity of the above algorithm? Since the input to the algorithm is just one large number r, assume that the input size n is the number of bytes needed to store r, that is, $n = \u0010⌊(\\log_2 r)⌋/8\u0011 + 1$, and that each division takes time $O(n)$. [15 points]"
      ],
      "metadata": {
        "id": "vLCZc-vBNzID"
      }
    },
    {
      "cell_type": "markdown",
      "source": [
        "###Answer:\n",
        "\n",
        "*   $r = 2^{8(n-1)}$\n",
        "*   $T(n) = n*r = n*2^{8(n-1)}$\n",
        "*   Thus $O(n*2^n)$"
      ],
      "metadata": {
        "id": "ZQwPggabN28j"
      }
    },
    {
      "cell_type": "markdown",
      "source": [
        "Let $p(x)$ be a polynomial of degree $n$, that is, $p(x) = \\sum_{i=0}^n a_ix^i$.\n",
        "\n",
        "(a) Describe a simple $O(n^2)$-time algorithm for computing $p(x)$. [15 points]\n",
        "\n"
      ],
      "metadata": {
        "id": "ji2T2qPiLgN1"
      }
    },
    {
      "cell_type": "markdown",
      "source": [
        "###Answer:\n",
        "\n",
        "*   Inputs: x = c (constant), coefficients = [...] (array of coefficients, from 0 to n degree)\n",
        "\n",
        "*   $O(n^2)$ due to the dominance of the nested for loop"
      ],
      "metadata": {
        "id": "3DqHBJwbMAhu"
      }
    },
    {
      "cell_type": "code",
      "source": [
        "coefficients = [1, 2, 3]\n",
        "x = 2\n",
        "answer = 0\n",
        "current = 0\n",
        "literal = 1\n",
        "\n",
        "for i in range(len(coefficients)):\n",
        "    for j in range(i):\n",
        "        literal *= x\n",
        "    current = coefficients[i] * literal\n",
        "    answer += current\n",
        "    literal = 1\n",
        "print(answer)"
      ],
      "metadata": {
        "colab": {
          "base_uri": "https://localhost:8080/"
        },
        "id": "qyvsn-H_sES3",
        "outputId": "fccc5f32-3c50-40d3-bd35-8e2e3dd965e8"
      },
      "execution_count": null,
      "outputs": [
        {
          "output_type": "stream",
          "name": "stdout",
          "text": [
            "17\n"
          ]
        }
      ]
    },
    {
      "cell_type": "markdown",
      "source": [
        "(b) Describe an $O(n \\log n)$-time algorithm for computing $p(x)$, based upon a more efficient calculation of $x^i$. [15 points]\n"
      ],
      "metadata": {
        "id": "AjF18u9hMCYR"
      }
    },
    {
      "cell_type": "markdown",
      "source": [
        "###Answer:\n",
        "\n",
        "*   Same inputs as on previous item\n",
        "\n",
        "*   O(n*logn) due to the presence of an exponential term inside a for loop; other parts of the code are just assignments w/c aren't dominant"
      ],
      "metadata": {
        "id": "zI93z1eWMbOK"
      }
    },
    {
      "cell_type": "code",
      "source": [
        "coefficients = [1, 2, 3]\n",
        "x = 2\n",
        "answer = 0\n",
        "current = 0\n",
        "literal = 1\n",
        "\n",
        "for i in range(len(coefficients)):\n",
        "    current = coefficients[i] * (x ** i)\n",
        "    answer += current\n",
        "print(answer)"
      ],
      "metadata": {
        "id": "nLqdKYhVeVcE",
        "colab": {
          "base_uri": "https://localhost:8080/"
        },
        "outputId": "c99b9433-1ff7-4321-f337-7ca46d3d24c3"
      },
      "execution_count": null,
      "outputs": [
        {
          "output_type": "stream",
          "name": "stdout",
          "text": [
            "17\n"
          ]
        }
      ]
    },
    {
      "cell_type": "markdown",
      "source": [
        "(c) Now consider a rewriting of $p(x)$ as\n",
        "\n",
        "$p(x) = a_0 +x(a_1 +x(a_2 +x(a_3 +···+x(a_{n−1} +xa_n)···))),$\n",
        "\n",
        "which is known as **Horner’s Method.** Using the big-Oh notation, characterize the number of arithmetic operations this method executes. [15 points]"
      ],
      "metadata": {
        "id": "MSAq3WsQMc9V"
      }
    },
    {
      "cell_type": "markdown",
      "source": [
        "###Answer:\n",
        "\n",
        "*   O(n), as the implementation involves overwriting the current answer n times, via a for loop"
      ],
      "metadata": {
        "id": "NqL7PGj5NNJT"
      }
    },
    {
      "cell_type": "markdown",
      "source": [
        "(d) Implement Horner's Method as a Python function. Run a performance benchmark of the algorithm and show a chart of the actual running time of the function. [15 points]"
      ],
      "metadata": {
        "id": "Dz06PysqP6RC"
      }
    },
    {
      "cell_type": "code",
      "source": [
        "# YOUR CODE HERE\n",
        "from time import perf_counter\n",
        "\n",
        "array = []\n",
        "n = 10\n",
        "for i in range(n):\n",
        "    array += [i]    \n",
        "\n",
        "coefficients = array  #Input\n",
        "x = 2                 #Input\n",
        "\n",
        "start = perf_counter()\n",
        "answer = coefficients[-1]\n",
        "\n",
        "for i in reversed(range(0, len(coefficients) - 1)):\n",
        "    answer = x*answer + coefficients[i]\n",
        "        \n",
        "print(answer)\n",
        "t = (perf_counter() - start) * 1000\n",
        "print(t)"
      ],
      "metadata": {
        "id": "alLfl_vPRERt",
        "colab": {
          "base_uri": "https://localhost:8080/"
        },
        "outputId": "078ea079-ed4c-4f38-af44-1d228b2fdb53"
      },
      "execution_count": null,
      "outputs": [
        {
          "output_type": "stream",
          "name": "stdout",
          "text": [
            "8194\n",
            "0.7651940004507196\n"
          ]
        }
      ]
    },
    {
      "cell_type": "markdown",
      "source": [
        "![164W1 Benchmark.png](data:image/png;base64,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)"
      ],
      "metadata": {
        "id": "oZykJ10PGn1h"
      }
    }
  ]
}